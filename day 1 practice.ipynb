{
 "cells": [
  {
   "cell_type": "code",
   "execution_count": null,
   "id": "a4a4146d",
   "metadata": {},
   "outputs": [],
   "source": []
  },
  {
   "cell_type": "code",
   "execution_count": null,
   "id": "b73f4f1f",
   "metadata": {},
   "outputs": [],
   "source": [
    "shift+enter for output"
   ]
  },
  {
   "cell_type": "markdown",
   "id": "e8bee1a4",
   "metadata": {},
   "source": [
    "#### understanding varables"
   ]
  },
  {
   "cell_type": "code",
   "execution_count": null,
   "id": "e41d377d",
   "metadata": {},
   "outputs": [],
   "source": [
    "varables are for storng values"
   ]
  },
  {
   "cell_type": "code",
   "execution_count": null,
   "id": "15296444",
   "metadata": {},
   "outputs": [],
   "source": [
    "variable_name =value        ###syntax for varables is a=10"
   ]
  },
  {
   "cell_type": "code",
   "execution_count": null,
   "id": "ef971d12",
   "metadata": {},
   "outputs": [],
   "source": [
    "#### hash tags used for wrtng comments"
   ]
  },
  {
   "cell_type": "code",
   "execution_count": null,
   "id": "e3b1d197",
   "metadata": {},
   "outputs": [],
   "source": [
    "1.single line comment\n",
    "2.double line comment"
   ]
  },
  {
   "cell_type": "code",
   "execution_count": null,
   "id": "a0ff742f",
   "metadata": {},
   "outputs": [],
   "source": [
    "###rules for declaring variables"
   ]
  },
  {
   "cell_type": "code",
   "execution_count": null,
   "id": "c14d9a9b",
   "metadata": {},
   "outputs": [],
   "source": [
    "1.no gaps/spaces between varible names"
   ]
  },
  {
   "cell_type": "code",
   "execution_count": 2,
   "id": "da957a26",
   "metadata": {},
   "outputs": [
    {
     "ename": "SyntaxError",
     "evalue": "invalid syntax (<ipython-input-2-8805e1b5334a>, line 1)",
     "output_type": "error",
     "traceback": [
      "\u001b[1;36m  File \u001b[1;32m\"<ipython-input-2-8805e1b5334a>\"\u001b[1;36m, line \u001b[1;32m1\u001b[0m\n\u001b[1;33m    full name='m shivani'\u001b[0m\n\u001b[1;37m         ^\u001b[0m\n\u001b[1;31mSyntaxError\u001b[0m\u001b[1;31m:\u001b[0m invalid syntax\n"
     ]
    }
   ],
   "source": [
    "full name='m shivani'       ###it shows an error"
   ]
  },
  {
   "cell_type": "code",
   "execution_count": 3,
   "id": "83580bcd",
   "metadata": {},
   "outputs": [],
   "source": [
    "full_name='m shivani'           ####it doesnt have any gap/space"
   ]
  },
  {
   "cell_type": "code",
   "execution_count": 4,
   "id": "fa280c8b",
   "metadata": {},
   "outputs": [
    {
     "name": "stdout",
     "output_type": "stream",
     "text": [
      "m shivani\n"
     ]
    }
   ],
   "source": [
    "print(full_name)"
   ]
  },
  {
   "cell_type": "markdown",
   "id": "8345ac8b",
   "metadata": {},
   "source": [
    "2.variables doesnt start with number(but we can write number after the name)"
   ]
  },
  {
   "cell_type": "code",
   "execution_count": 5,
   "id": "ed0f99a5",
   "metadata": {},
   "outputs": [
    {
     "ename": "SyntaxError",
     "evalue": "invalid syntax (<ipython-input-5-bb791a257976>, line 1)",
     "output_type": "error",
     "traceback": [
      "\u001b[1;36m  File \u001b[1;32m\"<ipython-input-5-bb791a257976>\"\u001b[1;36m, line \u001b[1;32m1\u001b[0m\n\u001b[1;33m    4name='raju'\u001b[0m\n\u001b[1;37m     ^\u001b[0m\n\u001b[1;31mSyntaxError\u001b[0m\u001b[1;31m:\u001b[0m invalid syntax\n"
     ]
    }
   ],
   "source": [
    "4name='raju'              ####t shows an error because we use number before varable"
   ]
  },
  {
   "cell_type": "code",
   "execution_count": 6,
   "id": "fdc92608",
   "metadata": {},
   "outputs": [],
   "source": [
    "name4='raju'            ####t doesnt have any error"
   ]
  },
  {
   "cell_type": "code",
   "execution_count": 7,
   "id": "f2467b59",
   "metadata": {},
   "outputs": [
    {
     "name": "stdout",
     "output_type": "stream",
     "text": [
      "raju\n"
     ]
    }
   ],
   "source": [
    "print(name4)"
   ]
  },
  {
   "cell_type": "code",
   "execution_count": null,
   "id": "3e1dadfd",
   "metadata": {},
   "outputs": [],
   "source": [
    "3.no special characters should be used in the begining of variable name"
   ]
  },
  {
   "cell_type": "code",
   "execution_count": 8,
   "id": "598e5261",
   "metadata": {},
   "outputs": [
    {
     "ename": "SyntaxError",
     "evalue": "invalid syntax (<ipython-input-8-9efe95c0cf8f>, line 1)",
     "output_type": "error",
     "traceback": [
      "\u001b[1;36m  File \u001b[1;32m\"<ipython-input-8-9efe95c0cf8f>\"\u001b[1;36m, line \u001b[1;32m1\u001b[0m\n\u001b[1;33m    $name='raju'\u001b[0m\n\u001b[1;37m    ^\u001b[0m\n\u001b[1;31mSyntaxError\u001b[0m\u001b[1;31m:\u001b[0m invalid syntax\n"
     ]
    }
   ],
   "source": [
    "$name='raju'                 ###t shows error"
   ]
  },
  {
   "cell_type": "markdown",
   "id": "bcfc68c0",
   "metadata": {},
   "source": [
    "#####  introducng datatypes"
   ]
  },
  {
   "cell_type": "code",
   "execution_count": null,
   "id": "10eb65bc",
   "metadata": {},
   "outputs": [],
   "source": [
    "1.strings.......>str\n",
    "2.list..........>lst\n",
    "3.dictio........>dict\n",
    "4.sets..........>sets\n",
    "5.tuples........>tuples"
   ]
  },
  {
   "cell_type": "code",
   "execution_count": null,
   "id": "15a52dd8",
   "metadata": {},
   "outputs": [],
   "source": [
    "#####introduction to strings"
   ]
  },
  {
   "cell_type": "code",
   "execution_count": null,
   "id": "5a14f2ce",
   "metadata": {},
   "outputs": [],
   "source": [
    "string......group of character,series of data "
   ]
  },
  {
   "cell_type": "code",
   "execution_count": null,
   "id": "083441ec",
   "metadata": {},
   "outputs": [],
   "source": [
    "###we can declare the string in  ::::::::single quoe,double quote, trple quote."
   ]
  },
  {
   "cell_type": "code",
   "execution_count": null,
   "id": "bd1919e2",
   "metadata": {},
   "outputs": [],
   "source": [
    "1.'python'\n",
    "2.\"python\"\n",
    "3.\"'python'\""
   ]
  },
  {
   "cell_type": "code",
   "execution_count": null,
   "id": "7ad9be58",
   "metadata": {},
   "outputs": [],
   "source": [
    "properties of string :-------------string is an insuitable data type"
   ]
  },
  {
   "cell_type": "code",
   "execution_count": null,
   "id": "81b24466",
   "metadata": {},
   "outputs": [],
   "source": [
    "insuitable=whenevr we declare the srting we cannot change the data."
   ]
  },
  {
   "cell_type": "code",
   "execution_count": 2,
   "id": "a098da34",
   "metadata": {},
   "outputs": [],
   "source": [
    "x='keerthi'   ####example"
   ]
  },
  {
   "cell_type": "code",
   "execution_count": 3,
   "id": "a4f12456",
   "metadata": {},
   "outputs": [
    {
     "name": "stdout",
     "output_type": "stream",
     "text": [
      "keerthi\n"
     ]
    }
   ],
   "source": [
    "print(x)"
   ]
  },
  {
   "cell_type": "code",
   "execution_count": 4,
   "id": "dc3f3a74",
   "metadata": {},
   "outputs": [
    {
     "data": {
      "text/plain": [
       "str"
      ]
     },
     "execution_count": 4,
     "metadata": {},
     "output_type": "execute_result"
    }
   ],
   "source": [
    "type(x)           ###to know the type of data"
   ]
  },
  {
   "cell_type": "markdown",
   "id": "5dc9d0ff",
   "metadata": {},
   "source": [
    "#### enhancement of code    (means modifying the data)"
   ]
  },
  {
   "cell_type": "code",
   "execution_count": 5,
   "id": "f0c00031",
   "metadata": {},
   "outputs": [],
   "source": [
    "name='keerthi'"
   ]
  },
  {
   "cell_type": "code",
   "execution_count": 6,
   "id": "5fcf6376",
   "metadata": {},
   "outputs": [
    {
     "name": "stdout",
     "output_type": "stream",
     "text": [
      "keerthi\n"
     ]
    }
   ],
   "source": [
    "print(name)"
   ]
  },
  {
   "cell_type": "code",
   "execution_count": 7,
   "id": "b8bfb3e2",
   "metadata": {},
   "outputs": [],
   "source": [
    "name='keerthi'"
   ]
  },
  {
   "cell_type": "code",
   "execution_count": 8,
   "id": "8ecf48b6",
   "metadata": {},
   "outputs": [
    {
     "name": "stdout",
     "output_type": "stream",
     "text": [
      "Keerthi\n"
     ]
    }
   ],
   "source": [
    "print(name.title())        ####modifying by adding title syntax"
   ]
  },
  {
   "cell_type": "code",
   "execution_count": null,
   "id": "029303db",
   "metadata": {},
   "outputs": [],
   "source": [
    "#####methods to declare stirng"
   ]
  },
  {
   "cell_type": "code",
   "execution_count": null,
   "id": "5984e740",
   "metadata": {},
   "outputs": [],
   "source": [
    "1.title       syntax:-print(name.title())\n",
    "2.upper method syntax:-print(name.upper())\n",
    "3.lower method syntax:-print(name.lower())"
   ]
  },
  {
   "cell_type": "code",
   "execution_count": 9,
   "id": "36523f60",
   "metadata": {},
   "outputs": [],
   "source": [
    "name='jam'"
   ]
  },
  {
   "cell_type": "code",
   "execution_count": 10,
   "id": "b744af7f",
   "metadata": {},
   "outputs": [
    {
     "name": "stdout",
     "output_type": "stream",
     "text": [
      "JAM\n"
     ]
    }
   ],
   "source": [
    "print(name.upper())"
   ]
  },
  {
   "cell_type": "code",
   "execution_count": 11,
   "id": "a31d2ffa",
   "metadata": {},
   "outputs": [
    {
     "name": "stdout",
     "output_type": "stream",
     "text": [
      "jam\n"
     ]
    }
   ],
   "source": [
    "print(name.lower())"
   ]
  },
  {
   "cell_type": "code",
   "execution_count": 12,
   "id": "a975be4d",
   "metadata": {},
   "outputs": [
    {
     "name": "stdout",
     "output_type": "stream",
     "text": [
      "Jam\n"
     ]
    }
   ],
   "source": [
    "print(name.title())"
   ]
  },
  {
   "cell_type": "code",
   "execution_count": null,
   "id": "8ce25244",
   "metadata": {},
   "outputs": [],
   "source": []
  },
  {
   "cell_type": "code",
   "execution_count": null,
   "id": "32b0f2ae",
   "metadata": {},
   "outputs": [],
   "source": []
  },
  {
   "cell_type": "code",
   "execution_count": null,
   "id": "fbe48385",
   "metadata": {},
   "outputs": [],
   "source": []
  }
 ],
 "metadata": {
  "kernelspec": {
   "display_name": "Python 3",
   "language": "python",
   "name": "python3"
  },
  "language_info": {
   "codemirror_mode": {
    "name": "ipython",
    "version": 3
   },
   "file_extension": ".py",
   "mimetype": "text/x-python",
   "name": "python",
   "nbconvert_exporter": "python",
   "pygments_lexer": "ipython3",
   "version": "3.8.8"
  }
 },
 "nbformat": 4,
 "nbformat_minor": 5
}
