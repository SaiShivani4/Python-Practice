{
 "cells": [
  {
   "cell_type": "markdown",
   "id": "6ca569aa",
   "metadata": {},
   "source": [
    "##### adding white spaces to the strings"
   ]
  },
  {
   "cell_type": "code",
   "execution_count": 1,
   "id": "a98c5914",
   "metadata": {},
   "outputs": [
    {
     "name": "stdout",
     "output_type": "stream",
     "text": [
      "    tippii\n"
     ]
    }
   ],
   "source": [
    "print('    tippii')     ######we give space to the name"
   ]
  },
  {
   "cell_type": "code",
   "execution_count": 2,
   "id": "58ad4d50",
   "metadata": {},
   "outputs": [
    {
     "name": "stdout",
     "output_type": "stream",
     "text": [
      "\ttippi\n"
     ]
    }
   ],
   "source": [
    "print('\\ttippi')           ##### \\t is a tabdelimiter---------it gives 8 tab spaces before the string"
   ]
  },
  {
   "cell_type": "code",
   "execution_count": 3,
   "id": "648f5d94",
   "metadata": {},
   "outputs": [
    {
     "name": "stdout",
     "output_type": "stream",
     "text": [
      "languages:\n",
      "python\n",
      "c\n",
      "c++\n",
      "java\n"
     ]
    }
   ],
   "source": [
    "print('languages:\\npython\\nc\\nc++\\njava')            #### \\n for new line and \\t for tab space"
   ]
  },
  {
   "cell_type": "code",
   "execution_count": 4,
   "id": "99605543",
   "metadata": {},
   "outputs": [
    {
     "name": "stdout",
     "output_type": "stream",
     "text": [
      "languages:\n",
      "\tpython\n",
      "\tc\n",
      "\tc++\n",
      "\tjava\n"
     ]
    }
   ],
   "source": [
    "print('languages:\\n\\tpython\\n\\tc\\n\\tc++\\n\\tjava')            ###### enhancement of code"
   ]
  },
  {
   "cell_type": "code",
   "execution_count": 7,
   "id": "8b37dea8",
   "metadata": {},
   "outputs": [],
   "source": [
    "fav_lang='    python'      ##### extra space in the beginng"
   ]
  },
  {
   "cell_type": "code",
   "execution_count": 8,
   "id": "b527edc9",
   "metadata": {},
   "outputs": [
    {
     "name": "stdout",
     "output_type": "stream",
     "text": [
      "    python\n"
     ]
    }
   ],
   "source": [
    "print(fav_lang)"
   ]
  },
  {
   "cell_type": "code",
   "execution_count": null,
   "id": "f146aac9",
   "metadata": {},
   "outputs": [],
   "source": [
    "##### srtipping    ----adding spaces \n",
    "left stripping     ----show some space before the name\n",
    "right stripping     ----show some space after the name"
   ]
  },
  {
   "cell_type": "code",
   "execution_count": 9,
   "id": "5d019a41",
   "metadata": {},
   "outputs": [
    {
     "name": "stdout",
     "output_type": "stream",
     "text": [
      "python\n"
     ]
    }
   ],
   "source": [
    "print(fav_lang.lstrip())"
   ]
  },
  {
   "cell_type": "code",
   "execution_count": 10,
   "id": "c931ea6d",
   "metadata": {},
   "outputs": [
    {
     "name": "stdout",
     "output_type": "stream",
     "text": [
      "    python\n"
     ]
    }
   ],
   "source": [
    "print(fav_lang.rstrip())"
   ]
  },
  {
   "cell_type": "code",
   "execution_count": 11,
   "id": "7f123fc4",
   "metadata": {},
   "outputs": [],
   "source": [
    "######integers"
   ]
  },
  {
   "cell_type": "code",
   "execution_count": 12,
   "id": "2c7f5d52",
   "metadata": {},
   "outputs": [
    {
     "data": {
      "text/plain": [
       "5"
      ]
     },
     "execution_count": 12,
     "metadata": {},
     "output_type": "execute_result"
    }
   ],
   "source": [
    "2+3"
   ]
  },
  {
   "cell_type": "code",
   "execution_count": 13,
   "id": "f7364d24",
   "metadata": {},
   "outputs": [
    {
     "data": {
      "text/plain": [
       "72"
      ]
     },
     "execution_count": 13,
     "metadata": {},
     "output_type": "execute_result"
    }
   ],
   "source": [
    "8*9"
   ]
  },
  {
   "cell_type": "code",
   "execution_count": 14,
   "id": "61bcf2f4",
   "metadata": {},
   "outputs": [
    {
     "data": {
      "text/plain": [
       "5"
      ]
     },
     "execution_count": 14,
     "metadata": {},
     "output_type": "execute_result"
    }
   ],
   "source": [
    "10-5"
   ]
  },
  {
   "cell_type": "code",
   "execution_count": 15,
   "id": "37845c3e",
   "metadata": {},
   "outputs": [
    {
     "data": {
      "text/plain": [
       "64"
      ]
     },
     "execution_count": 15,
     "metadata": {},
     "output_type": "execute_result"
    }
   ],
   "source": [
    "8**2"
   ]
  },
  {
   "cell_type": "code",
   "execution_count": 19,
   "id": "61b5b6b5",
   "metadata": {},
   "outputs": [
    {
     "data": {
      "text/plain": [
       "512"
      ]
     },
     "execution_count": 19,
     "metadata": {},
     "output_type": "execute_result"
    }
   ],
   "source": [
    "8**3"
   ]
  },
  {
   "cell_type": "code",
   "execution_count": 20,
   "id": "92ae5aa5",
   "metadata": {},
   "outputs": [],
   "source": [
    "a=5\n",
    "b=8"
   ]
  },
  {
   "cell_type": "code",
   "execution_count": 21,
   "id": "7501b9ad",
   "metadata": {},
   "outputs": [],
   "source": [
    "c=a+b"
   ]
  },
  {
   "cell_type": "code",
   "execution_count": 22,
   "id": "a0e6bfb7",
   "metadata": {},
   "outputs": [
    {
     "name": "stdout",
     "output_type": "stream",
     "text": [
      "13\n"
     ]
    }
   ],
   "source": [
    "print(c)"
   ]
  },
  {
   "cell_type": "code",
   "execution_count": 23,
   "id": "61e101f4",
   "metadata": {},
   "outputs": [],
   "source": [
    "c=a/b"
   ]
  },
  {
   "cell_type": "code",
   "execution_count": 24,
   "id": "9523f912",
   "metadata": {},
   "outputs": [
    {
     "name": "stdout",
     "output_type": "stream",
     "text": [
      "0.625\n"
     ]
    }
   ],
   "source": [
    "print(c)"
   ]
  },
  {
   "cell_type": "code",
   "execution_count": 25,
   "id": "8d3c845f",
   "metadata": {},
   "outputs": [
    {
     "data": {
      "text/plain": [
       "float"
      ]
     },
     "execution_count": 25,
     "metadata": {},
     "output_type": "execute_result"
    }
   ],
   "source": [
    "type(c)"
   ]
  },
  {
   "cell_type": "code",
   "execution_count": 26,
   "id": "87007aca",
   "metadata": {},
   "outputs": [],
   "source": [
    "d=5+8.5        ##### adding a float+integer is always a float"
   ]
  },
  {
   "cell_type": "code",
   "execution_count": 27,
   "id": "ffda095d",
   "metadata": {},
   "outputs": [
    {
     "name": "stdout",
     "output_type": "stream",
     "text": [
      "13.5\n"
     ]
    }
   ],
   "source": [
    "print(d)"
   ]
  },
  {
   "cell_type": "code",
   "execution_count": 28,
   "id": "c6de03f3",
   "metadata": {},
   "outputs": [],
   "source": [
    "a,b,c=1,2,3"
   ]
  },
  {
   "cell_type": "code",
   "execution_count": 29,
   "id": "9e7c4df8",
   "metadata": {},
   "outputs": [
    {
     "name": "stdout",
     "output_type": "stream",
     "text": [
      "1 2 3\n"
     ]
    }
   ],
   "source": [
    "print(a,b,c)"
   ]
  },
  {
   "cell_type": "markdown",
   "id": "df670e10",
   "metadata": {},
   "source": [
    "####  list of data type"
   ]
  },
  {
   "cell_type": "code",
   "execution_count": null,
   "id": "0921e9c9",
   "metadata": {},
   "outputs": [],
   "source": [
    "###### introduction of data types"
   ]
  },
  {
   "cell_type": "code",
   "execution_count": null,
   "id": "8568fbfd",
   "metadata": {},
   "outputs": [],
   "source": [
    "list:::::::::collection of elements"
   ]
  },
  {
   "cell_type": "code",
   "execution_count": null,
   "id": "23882f27",
   "metadata": {},
   "outputs": [],
   "source": [
    "###### how to declare a list---------> we are going to declare our list in []"
   ]
  },
  {
   "cell_type": "code",
   "execution_count": 32,
   "id": "baa7e47f",
   "metadata": {},
   "outputs": [],
   "source": [
    "students=['shiv','tippii','raju','jaya']      #### declaration of a list"
   ]
  },
  {
   "cell_type": "code",
   "execution_count": 33,
   "id": "fe296a3c",
   "metadata": {},
   "outputs": [
    {
     "name": "stdout",
     "output_type": "stream",
     "text": [
      "['shiv', 'tippii', 'raju', 'jaya']\n"
     ]
    }
   ],
   "source": [
    "print(students)"
   ]
  },
  {
   "cell_type": "code",
   "execution_count": null,
   "id": "f943052f",
   "metadata": {},
   "outputs": [],
   "source": [
    "students=['shiv','tippii','raju','jaya']\n",
    "            0        1       2      3             ### index position always start with 0"
   ]
  },
  {
   "cell_type": "code",
   "execution_count": 34,
   "id": "66a4adfa",
   "metadata": {},
   "outputs": [
    {
     "name": "stdout",
     "output_type": "stream",
     "text": [
      "shiv\n"
     ]
    }
   ],
   "source": [
    "print(students[0])"
   ]
  },
  {
   "cell_type": "code",
   "execution_count": 35,
   "id": "49a2fa47",
   "metadata": {},
   "outputs": [
    {
     "name": "stdout",
     "output_type": "stream",
     "text": [
      "jaya\n"
     ]
    }
   ],
   "source": [
    "print(students[3])"
   ]
  },
  {
   "cell_type": "code",
   "execution_count": 36,
   "id": "c10d1f75",
   "metadata": {},
   "outputs": [
    {
     "name": "stdout",
     "output_type": "stream",
     "text": [
      "Shiv\n"
     ]
    }
   ],
   "source": [
    "print(students[0].title())"
   ]
  },
  {
   "cell_type": "code",
   "execution_count": 42,
   "id": "abe0b337",
   "metadata": {},
   "outputs": [
    {
     "name": "stdout",
     "output_type": "stream",
     "text": [
      "TIPPII\n"
     ]
    }
   ],
   "source": [
    "print(students[1].upper())"
   ]
  },
  {
   "cell_type": "code",
   "execution_count": 43,
   "id": "aaaf06ad",
   "metadata": {},
   "outputs": [
    {
     "name": "stdout",
     "output_type": "stream",
     "text": [
      "raju\n"
     ]
    }
   ],
   "source": [
    "print(students[2].lower())"
   ]
  },
  {
   "cell_type": "code",
   "execution_count": 44,
   "id": "ee127cb0",
   "metadata": {},
   "outputs": [],
   "source": [
    "###### requirement "
   ]
  },
  {
   "cell_type": "code",
   "execution_count": 49,
   "id": "dcc9810c",
   "metadata": {},
   "outputs": [],
   "source": [
    "message=f\"good morning have a nice day to u,{students[2].title()}\"      ##### f-------formatting strings(to combine sentences)"
   ]
  },
  {
   "cell_type": "code",
   "execution_count": 50,
   "id": "f0465371",
   "metadata": {
    "scrolled": true
   },
   "outputs": [
    {
     "name": "stdout",
     "output_type": "stream",
     "text": [
      "good morning have a nice day to u,Raju\n"
     ]
    }
   ],
   "source": [
    "print(message)"
   ]
  },
  {
   "cell_type": "code",
   "execution_count": 52,
   "id": "b27d11d3",
   "metadata": {},
   "outputs": [],
   "source": [
    "message=\"hello love,{students[1].upper()}\""
   ]
  },
  {
   "cell_type": "code",
   "execution_count": 53,
   "id": "4472f032",
   "metadata": {},
   "outputs": [
    {
     "name": "stdout",
     "output_type": "stream",
     "text": [
      "hello love,{students[1].upper()}\n"
     ]
    }
   ],
   "source": [
    "print(message)"
   ]
  },
  {
   "cell_type": "code",
   "execution_count": 54,
   "id": "269cb556",
   "metadata": {},
   "outputs": [],
   "source": [
    "students=['shiv','tippii','raju','jaya']     "
   ]
  },
  {
   "cell_type": "code",
   "execution_count": null,
   "id": "415035ee",
   "metadata": {},
   "outputs": [],
   "source": []
  },
  {
   "cell_type": "code",
   "execution_count": 57,
   "id": "d432bf7d",
   "metadata": {},
   "outputs": [],
   "source": [
    "message=f\"hello love,{students[1].upper()}\""
   ]
  },
  {
   "cell_type": "code",
   "execution_count": 58,
   "id": "197fe9d2",
   "metadata": {},
   "outputs": [
    {
     "name": "stdout",
     "output_type": "stream",
     "text": [
      "hello love,TIPPII\n"
     ]
    }
   ],
   "source": [
    "print(message)"
   ]
  },
  {
   "cell_type": "code",
   "execution_count": 59,
   "id": "88d27132",
   "metadata": {},
   "outputs": [],
   "source": [
    "message=f\"what are u doing my dear,{students[3].upper()}\""
   ]
  },
  {
   "cell_type": "code",
   "execution_count": 60,
   "id": "98e537db",
   "metadata": {},
   "outputs": [
    {
     "name": "stdout",
     "output_type": "stream",
     "text": [
      "what are u doing my dear,JAYA\n"
     ]
    }
   ],
   "source": [
    "print(message)"
   ]
  },
  {
   "cell_type": "code",
   "execution_count": 67,
   "id": "90e0092a",
   "metadata": {},
   "outputs": [],
   "source": [
    "message=f\"gud night sweet dreams,{students[0].title()}\""
   ]
  },
  {
   "cell_type": "code",
   "execution_count": 72,
   "id": "7b45c305",
   "metadata": {},
   "outputs": [
    {
     "name": "stdout",
     "output_type": "stream",
     "text": [
      "Gud Night Sweet Dreams,Shiv\n"
     ]
    }
   ],
   "source": [
    "print(message.title())"
   ]
  },
  {
   "cell_type": "code",
   "execution_count": null,
   "id": "9d6cfb02",
   "metadata": {},
   "outputs": [],
   "source": []
  },
  {
   "cell_type": "code",
   "execution_count": null,
   "id": "287378ac",
   "metadata": {},
   "outputs": [],
   "source": []
  },
  {
   "cell_type": "code",
   "execution_count": null,
   "id": "8b907ed8",
   "metadata": {},
   "outputs": [],
   "source": []
  },
  {
   "cell_type": "code",
   "execution_count": null,
   "id": "10f32342",
   "metadata": {},
   "outputs": [],
   "source": []
  },
  {
   "cell_type": "code",
   "execution_count": null,
   "id": "eca2a150",
   "metadata": {},
   "outputs": [],
   "source": []
  },
  {
   "cell_type": "code",
   "execution_count": null,
   "id": "6a480644",
   "metadata": {},
   "outputs": [],
   "source": []
  },
  {
   "cell_type": "code",
   "execution_count": null,
   "id": "ed78e68e",
   "metadata": {},
   "outputs": [],
   "source": []
  },
  {
   "cell_type": "code",
   "execution_count": null,
   "id": "7c64c65b",
   "metadata": {},
   "outputs": [],
   "source": []
  },
  {
   "cell_type": "code",
   "execution_count": null,
   "id": "1f1b158a",
   "metadata": {},
   "outputs": [],
   "source": []
  },
  {
   "cell_type": "code",
   "execution_count": null,
   "id": "aabcae40",
   "metadata": {},
   "outputs": [],
   "source": []
  },
  {
   "cell_type": "code",
   "execution_count": null,
   "id": "06a4ae95",
   "metadata": {},
   "outputs": [],
   "source": []
  },
  {
   "cell_type": "code",
   "execution_count": null,
   "id": "8a362a85",
   "metadata": {},
   "outputs": [],
   "source": []
  },
  {
   "cell_type": "code",
   "execution_count": null,
   "id": "6f02fd3a",
   "metadata": {},
   "outputs": [],
   "source": []
  },
  {
   "cell_type": "code",
   "execution_count": null,
   "id": "b8370c09",
   "metadata": {},
   "outputs": [],
   "source": []
  },
  {
   "cell_type": "code",
   "execution_count": null,
   "id": "a75926f6",
   "metadata": {},
   "outputs": [],
   "source": []
  },
  {
   "cell_type": "code",
   "execution_count": null,
   "id": "8b0ac13c",
   "metadata": {},
   "outputs": [],
   "source": []
  },
  {
   "cell_type": "code",
   "execution_count": null,
   "id": "503355bc",
   "metadata": {},
   "outputs": [],
   "source": []
  },
  {
   "cell_type": "code",
   "execution_count": null,
   "id": "2f9151e5",
   "metadata": {},
   "outputs": [],
   "source": []
  },
  {
   "cell_type": "code",
   "execution_count": null,
   "id": "84fa2033",
   "metadata": {},
   "outputs": [],
   "source": []
  },
  {
   "cell_type": "code",
   "execution_count": null,
   "id": "04f0fa46",
   "metadata": {},
   "outputs": [],
   "source": []
  }
 ],
 "metadata": {
  "kernelspec": {
   "display_name": "Python 3",
   "language": "python",
   "name": "python3"
  },
  "language_info": {
   "codemirror_mode": {
    "name": "ipython",
    "version": 3
   },
   "file_extension": ".py",
   "mimetype": "text/x-python",
   "name": "python",
   "nbconvert_exporter": "python",
   "pygments_lexer": "ipython3",
   "version": "3.8.8"
  }
 },
 "nbformat": 4,
 "nbformat_minor": 5
}
