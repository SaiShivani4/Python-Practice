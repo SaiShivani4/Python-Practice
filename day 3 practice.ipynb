{
 "cells": [
  {
   "cell_type": "code",
   "execution_count": null,
   "id": "705067a0",
   "metadata": {},
   "outputs": [],
   "source": []
  },
  {
   "cell_type": "code",
   "execution_count": 15,
   "id": "28e603c0",
   "metadata": {},
   "outputs": [],
   "source": [
    "friends=['shiv','sai','siri','hari','raju','jaya']"
   ]
  },
  {
   "cell_type": "code",
   "execution_count": 3,
   "id": "0ea00196",
   "metadata": {},
   "outputs": [
    {
     "name": "stdout",
     "output_type": "stream",
     "text": [
      "['shiv', 'sai', 'siri']\n"
     ]
    }
   ],
   "source": [
    "print(friends)"
   ]
  },
  {
   "cell_type": "code",
   "execution_count": null,
   "id": "9e51b180",
   "metadata": {},
   "outputs": [],
   "source": []
  },
  {
   "cell_type": "code",
   "execution_count": null,
   "id": "8aa2a393",
   "metadata": {},
   "outputs": [],
   "source": [
    "##### modify/change elements in the list"
   ]
  },
  {
   "cell_type": "code",
   "execution_count": 4,
   "id": "bc304795",
   "metadata": {},
   "outputs": [],
   "source": [
    "friends[1]='Datta'"
   ]
  },
  {
   "cell_type": "code",
   "execution_count": 5,
   "id": "f14f70e1",
   "metadata": {},
   "outputs": [
    {
     "name": "stdout",
     "output_type": "stream",
     "text": [
      "['shiv', 'Datta', 'siri']\n"
     ]
    }
   ],
   "source": [
    "print(friends)"
   ]
  },
  {
   "cell_type": "code",
   "execution_count": null,
   "id": "4cbfaa61",
   "metadata": {},
   "outputs": [],
   "source": [
    "###### delete elements in the list"
   ]
  },
  {
   "cell_type": "code",
   "execution_count": null,
   "id": "2af2e71c",
   "metadata": {},
   "outputs": [],
   "source": [
    "del\n",
    "pop"
   ]
  },
  {
   "cell_type": "code",
   "execution_count": 12,
   "id": "e48c948f",
   "metadata": {},
   "outputs": [],
   "source": [
    "friends[2]='siri'"
   ]
  },
  {
   "cell_type": "code",
   "execution_count": 13,
   "id": "2d1746b2",
   "metadata": {},
   "outputs": [
    {
     "name": "stdout",
     "output_type": "stream",
     "text": [
      "['shiv', 'tippiii', 'siri']\n"
     ]
    }
   ],
   "source": [
    "print(friends)"
   ]
  },
  {
   "cell_type": "code",
   "execution_count": 16,
   "id": "b06094ad",
   "metadata": {},
   "outputs": [
    {
     "name": "stdout",
     "output_type": "stream",
     "text": [
      "['shiv', 'sai', 'siri', 'hari', 'raju', 'jaya']\n"
     ]
    }
   ],
   "source": [
    "print(friends)"
   ]
  },
  {
   "cell_type": "code",
   "execution_count": 18,
   "id": "b0c6b97f",
   "metadata": {},
   "outputs": [
    {
     "data": {
      "text/plain": [
       "'jaya'"
      ]
     },
     "execution_count": 18,
     "metadata": {},
     "output_type": "execute_result"
    }
   ],
   "source": [
    "friends.pop()"
   ]
  },
  {
   "cell_type": "code",
   "execution_count": 19,
   "id": "68413f90",
   "metadata": {},
   "outputs": [
    {
     "data": {
      "text/plain": [
       "'shiv'"
      ]
     },
     "execution_count": 19,
     "metadata": {},
     "output_type": "execute_result"
    }
   ],
   "source": [
    "friends.pop(0)"
   ]
  },
  {
   "cell_type": "code",
   "execution_count": 20,
   "id": "7b6a2c6a",
   "metadata": {},
   "outputs": [
    {
     "name": "stdout",
     "output_type": "stream",
     "text": [
      "['sai', 'siri', 'hari', 'raju']\n"
     ]
    }
   ],
   "source": [
    "print(friends)"
   ]
  },
  {
   "cell_type": "code",
   "execution_count": 22,
   "id": "ba7b1ebf",
   "metadata": {},
   "outputs": [],
   "source": [
    "#### organizing a list        (nothing but sorting)"
   ]
  },
  {
   "cell_type": "code",
   "execution_count": 23,
   "id": "19124c4c",
   "metadata": {},
   "outputs": [],
   "source": [
    "##### requirement:::::: organize a list in alphabetical order"
   ]
  },
  {
   "cell_type": "code",
   "execution_count": 24,
   "id": "fe14bc74",
   "metadata": {},
   "outputs": [],
   "source": [
    "friends.sort()"
   ]
  },
  {
   "cell_type": "code",
   "execution_count": 26,
   "id": "b3c7a1bb",
   "metadata": {},
   "outputs": [
    {
     "name": "stdout",
     "output_type": "stream",
     "text": [
      "['hari', 'raju', 'sai', 'siri']\n"
     ]
    }
   ],
   "source": [
    "print(friends)"
   ]
  },
  {
   "cell_type": "code",
   "execution_count": 27,
   "id": "56d9cd98",
   "metadata": {},
   "outputs": [],
   "source": [
    "friends=['shiv','sai','siri','hari','raju','jaya']"
   ]
  },
  {
   "cell_type": "code",
   "execution_count": 28,
   "id": "d66ada6d",
   "metadata": {},
   "outputs": [],
   "source": [
    "friends.sort()               #### we can write syntax lie this for sorting"
   ]
  },
  {
   "cell_type": "code",
   "execution_count": 32,
   "id": "1e219ea2",
   "metadata": {},
   "outputs": [
    {
     "name": "stdout",
     "output_type": "stream",
     "text": [
      "['shiv', 'sai', 'siri', 'hari', 'raju', 'jaya']\n"
     ]
    }
   ],
   "source": [
    "print(friends)"
   ]
  },
  {
   "cell_type": "code",
   "execution_count": 30,
   "id": "887e544f",
   "metadata": {},
   "outputs": [
    {
     "name": "stdout",
     "output_type": "stream",
     "text": [
      "<built-in function sorted>\n"
     ]
    }
   ],
   "source": [
    "print(sorted)"
   ]
  },
  {
   "cell_type": "code",
   "execution_count": 31,
   "id": "7365fd41",
   "metadata": {},
   "outputs": [],
   "source": [
    "friends=['shiv','sai','siri','hari','raju','jaya']"
   ]
  },
  {
   "cell_type": "code",
   "execution_count": 36,
   "id": "3afc43b9",
   "metadata": {},
   "outputs": [
    {
     "name": "stdout",
     "output_type": "stream",
     "text": [
      "['hari', 'jaya', 'raju', 'sai', 'shiv', 'siri']\n"
     ]
    }
   ],
   "source": [
    "print(sorted(friends))         #### we can write lie this also for sorting"
   ]
  },
  {
   "cell_type": "code",
   "execution_count": 37,
   "id": "625ff305",
   "metadata": {},
   "outputs": [],
   "source": [
    "friends.reverse()"
   ]
  },
  {
   "cell_type": "code",
   "execution_count": 38,
   "id": "4c74bbfd",
   "metadata": {},
   "outputs": [
    {
     "name": "stdout",
     "output_type": "stream",
     "text": [
      "['jaya', 'raju', 'hari', 'siri', 'sai', 'shiv']\n"
     ]
    }
   ],
   "source": [
    "print(friends)"
   ]
  },
  {
   "cell_type": "code",
   "execution_count": 39,
   "id": "ab3c4c60",
   "metadata": {},
   "outputs": [
    {
     "name": "stdout",
     "output_type": "stream",
     "text": [
      "['hari', 'jaya', 'raju', 'sai', 'shiv', 'siri']\n"
     ]
    }
   ],
   "source": [
    "print(sorted(friends))"
   ]
  },
  {
   "cell_type": "code",
   "execution_count": 40,
   "id": "4f6fbed8",
   "metadata": {},
   "outputs": [],
   "source": [
    "#####   to find the length"
   ]
  },
  {
   "cell_type": "code",
   "execution_count": 41,
   "id": "fc76cc81",
   "metadata": {},
   "outputs": [
    {
     "data": {
      "text/plain": [
       "6"
      ]
     },
     "execution_count": 41,
     "metadata": {},
     "output_type": "execute_result"
    }
   ],
   "source": [
    "len(friends)"
   ]
  },
  {
   "cell_type": "code",
   "execution_count": 42,
   "id": "f005bf2c",
   "metadata": {},
   "outputs": [],
   "source": [
    "###### copy of list"
   ]
  },
  {
   "cell_type": "code",
   "execution_count": 43,
   "id": "b6d35383",
   "metadata": {},
   "outputs": [],
   "source": [
    "besties=['neeli','divya','shiv','honey','puja']"
   ]
  },
  {
   "cell_type": "code",
   "execution_count": 44,
   "id": "608d79e7",
   "metadata": {},
   "outputs": [
    {
     "name": "stdout",
     "output_type": "stream",
     "text": [
      "['neeli', 'divya', 'shiv', 'honey', 'puja']\n"
     ]
    }
   ],
   "source": [
    "print(besties)"
   ]
  },
  {
   "cell_type": "code",
   "execution_count": 46,
   "id": "4dcf023b",
   "metadata": {},
   "outputs": [],
   "source": [
    "girls=besties[:]         #### [:]-------> is used for coping elements syntax"
   ]
  },
  {
   "cell_type": "code",
   "execution_count": 47,
   "id": "b329b26a",
   "metadata": {},
   "outputs": [
    {
     "name": "stdout",
     "output_type": "stream",
     "text": [
      "['neeli', 'divya', 'shiv', 'honey', 'puja']\n"
     ]
    }
   ],
   "source": [
    "print(girls)"
   ]
  },
  {
   "cell_type": "code",
   "execution_count": 48,
   "id": "cbee6b20",
   "metadata": {},
   "outputs": [],
   "source": [
    "students=girls[:]"
   ]
  },
  {
   "cell_type": "code",
   "execution_count": 49,
   "id": "c11fccfd",
   "metadata": {},
   "outputs": [
    {
     "name": "stdout",
     "output_type": "stream",
     "text": [
      "['neeli', 'divya', 'shiv', 'honey', 'puja']\n"
     ]
    }
   ],
   "source": [
    "print(students)"
   ]
  },
  {
   "cell_type": "code",
   "execution_count": 50,
   "id": "093e14e0",
   "metadata": {},
   "outputs": [],
   "source": [
    "##### negative index"
   ]
  },
  {
   "cell_type": "code",
   "execution_count": 51,
   "id": "cf68c727",
   "metadata": {},
   "outputs": [
    {
     "name": "stdout",
     "output_type": "stream",
     "text": [
      "['neeli', 'divya', 'shiv', 'honey', 'puja']\n"
     ]
    }
   ],
   "source": [
    "print(besties)"
   ]
  },
  {
   "cell_type": "code",
   "execution_count": 53,
   "id": "372331ef",
   "metadata": {},
   "outputs": [
    {
     "name": "stdout",
     "output_type": "stream",
     "text": [
      "['jaya', 'raju', 'hari', 'siri', 'sai', 'shiv']\n"
     ]
    }
   ],
   "source": [
    "print(friends)"
   ]
  },
  {
   "cell_type": "code",
   "execution_count": 54,
   "id": "c9b684f5",
   "metadata": {},
   "outputs": [
    {
     "name": "stdout",
     "output_type": "stream",
     "text": [
      "shiv\n"
     ]
    }
   ],
   "source": [
    "print(friends[-1])"
   ]
  },
  {
   "cell_type": "code",
   "execution_count": 55,
   "id": "d98203ee",
   "metadata": {},
   "outputs": [
    {
     "name": "stdout",
     "output_type": "stream",
     "text": [
      "Shiv\n"
     ]
    }
   ],
   "source": [
    "print(friends[-1].title())"
   ]
  },
  {
   "cell_type": "code",
   "execution_count": 56,
   "id": "a86b19f3",
   "metadata": {},
   "outputs": [
    {
     "name": "stdout",
     "output_type": "stream",
     "text": [
      "SAI\n"
     ]
    }
   ],
   "source": [
    "print(friends[-2].upper())"
   ]
  },
  {
   "cell_type": "code",
   "execution_count": 58,
   "id": "00cb9816",
   "metadata": {},
   "outputs": [
    {
     "name": "stdout",
     "output_type": "stream",
     "text": [
      "Sai\n"
     ]
    }
   ],
   "source": [
    "print(friends[-2].title())"
   ]
  },
  {
   "cell_type": "code",
   "execution_count": 59,
   "id": "f9dd39c6",
   "metadata": {},
   "outputs": [],
   "source": [
    "friends=['neeli', 'divya', 'shiv', 'honey', 'puja']\n",
    "           0         1        2       3       4     ........> for positive indexing\n",
    "          -5        -4       -3      -2      -1     ........> for negitive indexing"
   ]
  },
  {
   "cell_type": "code",
   "execution_count": 60,
   "id": "1c6b6744",
   "metadata": {},
   "outputs": [],
   "source": [
    "###### slicing of list"
   ]
  },
  {
   "cell_type": "code",
   "execution_count": 61,
   "id": "6c761d71",
   "metadata": {},
   "outputs": [
    {
     "name": "stdout",
     "output_type": "stream",
     "text": [
      "['neeli', 'divya', 'shiv', 'honey', 'puja']\n"
     ]
    }
   ],
   "source": [
    "print(friends)"
   ]
  },
  {
   "cell_type": "code",
   "execution_count": 62,
   "id": "dd10b4d8",
   "metadata": {},
   "outputs": [],
   "source": [
    "###### requirement :::::: create a batch of 2 members each"
   ]
  },
  {
   "cell_type": "code",
   "execution_count": 67,
   "id": "0e193ae6",
   "metadata": {},
   "outputs": [
    {
     "data": {
      "text/plain": [
       "['divya', 'shiv']"
      ]
     },
     "execution_count": 67,
     "metadata": {},
     "output_type": "execute_result"
    }
   ],
   "source": [
    "friends[1:3]"
   ]
  },
  {
   "cell_type": "code",
   "execution_count": 68,
   "id": "3cac643c",
   "metadata": {},
   "outputs": [
    {
     "data": {
      "text/plain": [
       "['neeli', 'divya', 'shiv', 'honey', 'puja']"
      ]
     },
     "execution_count": 68,
     "metadata": {},
     "output_type": "execute_result"
    }
   ],
   "source": [
    "friends[ : ]"
   ]
  },
  {
   "cell_type": "code",
   "execution_count": 70,
   "id": "661e2522",
   "metadata": {},
   "outputs": [
    {
     "data": {
      "text/plain": [
       "['neeli', 'divya']"
      ]
     },
     "execution_count": 70,
     "metadata": {},
     "output_type": "execute_result"
    }
   ],
   "source": [
    "girls[0:2]"
   ]
  },
  {
   "cell_type": "code",
   "execution_count": 72,
   "id": "1d4e0867",
   "metadata": {},
   "outputs": [
    {
     "data": {
      "text/plain": [
       "['divya', 'shiv', 'honey']"
      ]
     },
     "execution_count": 72,
     "metadata": {},
     "output_type": "execute_result"
    }
   ],
   "source": [
    "friends[1:4]"
   ]
  },
  {
   "cell_type": "code",
   "execution_count": null,
   "id": "3f215825",
   "metadata": {},
   "outputs": [],
   "source": []
  }
 ],
 "metadata": {
  "kernelspec": {
   "display_name": "Python 3",
   "language": "python",
   "name": "python3"
  },
  "language_info": {
   "codemirror_mode": {
    "name": "ipython",
    "version": 3
   },
   "file_extension": ".py",
   "mimetype": "text/x-python",
   "name": "python",
   "nbconvert_exporter": "python",
   "pygments_lexer": "ipython3",
   "version": "3.8.8"
  }
 },
 "nbformat": 4,
 "nbformat_minor": 5
}
